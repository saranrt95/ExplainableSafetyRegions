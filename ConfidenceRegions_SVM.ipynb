{
 "cells": [
  {
   "cell_type": "code",
   "execution_count": 1,
   "id": "51a68309",
   "metadata": {},
   "outputs": [],
   "source": [
    "import pandas as pd\n",
    "import seaborn as sns\n",
    "import numpy as np\n",
    "import time\n",
    "\n",
    "import matplotlib.pyplot as plt\n",
    "\n",
    "import scipy\n",
    "from scipy import linalg\n",
    "\n",
    "from sklearn.metrics import confusion_matrix\n",
    "from sklearn.model_selection import train_test_split\n",
    "\n",
    "from WrapScalableSVM import *\n",
    "from Utils_SSVM import *\n",
    "from utilsData import *\n",
    "from modelEvaluation import *\n",
    "from utilsPlot import *\n",
    "\n",
    "import joblib"
   ]
  },
  {
   "cell_type": "markdown",
   "id": "c2305380-34f7-4673-9264-bd4a1eded487",
   "metadata": {},
   "source": [
    "# Tests for the xAI-2024 conference paper\n",
    "# Load datasets"
   ]
  },
  {
   "cell_type": "code",
   "execution_count": 2,
   "id": "38245c21",
   "metadata": {},
   "outputs": [],
   "source": [
    "datapath = \"/Users/saranarteni/OneDrive - CNR/REXASI-PRO/T3.1/navground_code/simulation2/\"\n",
    "train = \"train.csv\"\n",
    "test = \"test.csv\"\n",
    "cal = \"calib.csv\""
   ]
  },
  {
   "cell_type": "code",
   "execution_count": 3,
   "id": "2c91a943",
   "metadata": {},
   "outputs": [
    {
     "data": {
      "text/html": [
       "<div>\n",
       "<style scoped>\n",
       "    .dataframe tbody tr th:only-of-type {\n",
       "        vertical-align: middle;\n",
       "    }\n",
       "\n",
       "    .dataframe tbody tr th {\n",
       "        vertical-align: top;\n",
       "    }\n",
       "\n",
       "    .dataframe thead th {\n",
       "        text-align: right;\n",
       "    }\n",
       "</style>\n",
       "<table border=\"1\" class=\"dataframe\">\n",
       "  <thead>\n",
       "    <tr style=\"text-align: right;\">\n",
       "      <th></th>\n",
       "      <th>SafetyMargin</th>\n",
       "      <th>Eta</th>\n",
       "      <th>Tau</th>\n",
       "      <th>output</th>\n",
       "    </tr>\n",
       "  </thead>\n",
       "  <tbody>\n",
       "    <tr>\n",
       "      <th>0</th>\n",
       "      <td>0.072754</td>\n",
       "      <td>0.696000</td>\n",
       "      <td>0.843175</td>\n",
       "      <td>0</td>\n",
       "    </tr>\n",
       "    <tr>\n",
       "      <th>1</th>\n",
       "      <td>0.070435</td>\n",
       "      <td>0.242085</td>\n",
       "      <td>0.406416</td>\n",
       "      <td>1</td>\n",
       "    </tr>\n",
       "    <tr>\n",
       "      <th>2</th>\n",
       "      <td>0.059769</td>\n",
       "      <td>0.205506</td>\n",
       "      <td>0.674503</td>\n",
       "      <td>1</td>\n",
       "    </tr>\n",
       "    <tr>\n",
       "      <th>3</th>\n",
       "      <td>0.085892</td>\n",
       "      <td>0.780026</td>\n",
       "      <td>0.053480</td>\n",
       "      <td>0</td>\n",
       "    </tr>\n",
       "    <tr>\n",
       "      <th>4</th>\n",
       "      <td>0.049805</td>\n",
       "      <td>0.959057</td>\n",
       "      <td>0.293833</td>\n",
       "      <td>0</td>\n",
       "    </tr>\n",
       "    <tr>\n",
       "      <th>...</th>\n",
       "      <td>...</td>\n",
       "      <td>...</td>\n",
       "      <td>...</td>\n",
       "      <td>...</td>\n",
       "    </tr>\n",
       "    <tr>\n",
       "      <th>3995</th>\n",
       "      <td>0.057952</td>\n",
       "      <td>0.187594</td>\n",
       "      <td>0.005126</td>\n",
       "      <td>0</td>\n",
       "    </tr>\n",
       "    <tr>\n",
       "      <th>3996</th>\n",
       "      <td>0.079647</td>\n",
       "      <td>0.857238</td>\n",
       "      <td>0.409003</td>\n",
       "      <td>0</td>\n",
       "    </tr>\n",
       "    <tr>\n",
       "      <th>3997</th>\n",
       "      <td>0.024324</td>\n",
       "      <td>0.841866</td>\n",
       "      <td>0.050738</td>\n",
       "      <td>0</td>\n",
       "    </tr>\n",
       "    <tr>\n",
       "      <th>3998</th>\n",
       "      <td>0.035507</td>\n",
       "      <td>0.377760</td>\n",
       "      <td>0.395691</td>\n",
       "      <td>1</td>\n",
       "    </tr>\n",
       "    <tr>\n",
       "      <th>3999</th>\n",
       "      <td>0.088834</td>\n",
       "      <td>0.203069</td>\n",
       "      <td>0.665346</td>\n",
       "      <td>1</td>\n",
       "    </tr>\n",
       "  </tbody>\n",
       "</table>\n",
       "<p>4000 rows × 4 columns</p>\n",
       "</div>"
      ],
      "text/plain": [
       "      SafetyMargin       Eta       Tau  output\n",
       "0         0.072754  0.696000  0.843175       0\n",
       "1         0.070435  0.242085  0.406416       1\n",
       "2         0.059769  0.205506  0.674503       1\n",
       "3         0.085892  0.780026  0.053480       0\n",
       "4         0.049805  0.959057  0.293833       0\n",
       "...            ...       ...       ...     ...\n",
       "3995      0.057952  0.187594  0.005126       0\n",
       "3996      0.079647  0.857238  0.409003       0\n",
       "3997      0.024324  0.841866  0.050738       0\n",
       "3998      0.035507  0.377760  0.395691       1\n",
       "3999      0.088834  0.203069  0.665346       1\n",
       "\n",
       "[4000 rows x 4 columns]"
      ]
     },
     "execution_count": 3,
     "metadata": {},
     "output_type": "execute_result"
    }
   ],
   "source": [
    "dbtrain = pd.read_csv(datapath+train)\n",
    "dbtest = pd.read_csv(datapath+test)\n",
    "dbcal = pd.read_csv(datapath+cal)\n",
    "dbtrain"
   ]
  },
  {
   "cell_type": "markdown",
   "id": "69c6a310-acaa-443f-bb3a-172bf744c3df",
   "metadata": {},
   "source": [
    "Separate features and labels, and convert label 0 with 1 and 1 with -1"
   ]
  },
  {
   "cell_type": "code",
   "execution_count": 4,
   "id": "fbff073b",
   "metadata": {},
   "outputs": [],
   "source": [
    "Xtr = dbtrain[['SafetyMargin', 'Eta', 'Tau']].values\n",
    "Ytr = dbtrain[['output']].values\n",
    "Ytr[Ytr==1] = -1\n",
    "Ytr[Ytr==0] = 1\n",
    "\n",
    "Xts = dbtest[['SafetyMargin', 'Eta', 'Tau']].values\n",
    "Yts = dbtest[['output']].values\n",
    "Yts[Yts==1] = -1\n",
    "Yts[Yts==0] = 1\n",
    "\n",
    "Xcal = dbcal[['SafetyMargin', 'Eta', 'Tau']].values\n",
    "Ycal = dbcal[['output']].values\n",
    "Ycal[Ycal==1] = -1\n",
    "Ycal[Ycal==0] = 1"
   ]
  },
  {
   "cell_type": "markdown",
   "id": "0fc1f946-cccd-48b7-9c7c-8e14c369796b",
   "metadata": {},
   "source": [
    "# SVM parameters setting"
   ]
  },
  {
   "cell_type": "code",
   "execution_count": 5,
   "id": "72958a2c",
   "metadata": {},
   "outputs": [],
   "source": [
    "# Parameters settings\n",
    "kernel = \"polynomial\"\n",
    "param = 3\n",
    "tau = np.array([[0.5]])\n",
    "eta = 0.3"
   ]
  },
  {
   "cell_type": "markdown",
   "id": "04a74aac-8451-4a11-a449-b4ca9d1614f2",
   "metadata": {},
   "source": [
    "# Scaling setting"
   ]
  },
  {
   "cell_type": "code",
   "execution_count": 6,
   "id": "d28da3cc-0a13-4b92-b1ef-551cf0788545",
   "metadata": {},
   "outputs": [],
   "source": [
    "epsilon = 0.1"
   ]
  },
  {
   "cell_type": "markdown",
   "id": "da3ee4d4",
   "metadata": {},
   "source": [
    "## 1) Classic SVM"
   ]
  },
  {
   "cell_type": "code",
   "execution_count": 7,
   "id": "c0098a9c",
   "metadata": {},
   "outputs": [
    {
     "name": "stdout",
     "output_type": "stream",
     "text": [
      "Elapsed time: 403.1515438556671 seconds\n"
     ]
    }
   ],
   "source": [
    "start_time = time.time()\n",
    "\n",
    "model = ScalableSVMClassifier(eta, kernel, param, tau)\n",
    "model.get_params()\n",
    "\n",
    "model = model.fit(Xtr,Ytr)\n",
    "#joblib.dump(model, datapath+\"classicSVM_safeEff.sav\")\n",
    "end_time = time.time()\n",
    "\n",
    "elapsed_time = end_time - start_time\n",
    "\n",
    "print(f\"Elapsed time: {elapsed_time} seconds\")"
   ]
  },
  {
   "cell_type": "code",
   "execution_count": 8,
   "id": "21d2b59f",
   "metadata": {},
   "outputs": [
    {
     "data": {
      "text/plain": [
       "0"
      ]
     },
     "execution_count": 8,
     "metadata": {},
     "output_type": "execute_result"
    }
   ],
   "source": [
    "model = model.FPcontrol(Xcal, Ycal, epsilon,'classic')\n",
    "model.b_eps"
   ]
  },
  {
   "cell_type": "code",
   "execution_count": 9,
   "id": "76553068",
   "metadata": {},
   "outputs": [
    {
     "data": {
      "image/png": "[encoded data removed]",
      "text/plain": [
       "<Figure size 640x480 with 2 Axes>"
      ]
     },
     "metadata": {},
     "output_type": "display_data"
    },
    {
     "name": "stdout",
     "output_type": "stream",
     "text": [
      "ACC = 0.86, F1 = 0.8754448398576512, PPV = 0.8586387434554974, NPV = 0.8618266978922716, TPR = 0.8929219600725953, TNR = 0.8195991091314031, FPR = 0.18040089086859687, FNR = 0.10707803992740472\n",
      "\n",
      "TP = 492, FP = 81, TN = 368, FN = 59\n"
     ]
    }
   ],
   "source": [
    "metricsClassic = EvaluateModel(model, Xts, Yts, f\"SVM with {model.method} method\")\n"
   ]
  },
  {
   "cell_type": "code",
   "execution_count": 30,
   "id": "4c8afd10-5d9b-409e-87ff-77c32efa91b6",
   "metadata": {},
   "outputs": [
    {
     "data": {
      "text/plain": [
       "['/Users/saranarteni/OneDrive - CNR/REXASI-PRO/T3.1/navground_code/simulation2/Classic_SVM_safe.sav']"
      ]
     },
     "execution_count": 30,
     "metadata": {},
     "output_type": "execute_result"
    }
   ],
   "source": [
    "#joblib.dump(model,datapath+\"Classic_SVM_safe.sav\")"
   ]
  },
  {
   "cell_type": "markdown",
   "id": "41ba7464",
   "metadata": {},
   "source": [
    "## 2) Probabilistic Safety Region"
   ]
  },
  {
   "cell_type": "code",
   "execution_count": 37,
   "id": "f97d66cf",
   "metadata": {},
   "outputs": [
    {
     "data": {
      "text/plain": [
       "0.21856089114097121"
      ]
     },
     "execution_count": 37,
     "metadata": {},
     "output_type": "execute_result"
    }
   ],
   "source": [
    "model = model.FPcontrol(Xcal, Ycal, epsilon,'ps')\n",
    "model.b_eps"
   ]
  },
  {
   "cell_type": "code",
   "execution_count": 38,
   "id": "d07ae742-a2d5-4fb3-8bd2-aebc05f7e885",
   "metadata": {},
   "outputs": [
    {
     "data": {
      "text/plain": [
       "{'eta': 0.3,\n",
       " 'kernel': 'polynomial',\n",
       " 'param': 3,\n",
       " 'tau': array([[0.5]]),\n",
       " 'solver': 'osqp'}"
      ]
     },
     "execution_count": 38,
     "metadata": {},
     "output_type": "execute_result"
    }
   ],
   "source": [
    "model.get_params()"
   ]
  },
  {
   "cell_type": "code",
   "execution_count": 40,
   "id": "5bdce943-b0f2-409d-bf36-be48cbc8cc3d",
   "metadata": {},
   "outputs": [
    {
     "data": {
      "text/plain": [
       "['/Users/saranarteni/OneDrive - CNR/REXASI-PRO/T3.1/navground_code/simulation2/PS_SVM_safe.sav']"
      ]
     },
     "execution_count": 40,
     "metadata": {},
     "output_type": "execute_result"
    }
   ],
   "source": [
    "#joblib.dump(model,datapath+\"PS_SVM_safe.sav\")"
   ]
  },
  {
   "cell_type": "code",
   "execution_count": 39,
   "id": "42adb709",
   "metadata": {},
   "outputs": [
    {
     "data": {
      "image/png": "[encoded data removed]",
      "text/plain": [
       "<Figure size 640x480 with 2 Axes>"
      ]
     },
     "metadata": {},
     "output_type": "display_data"
    },
    {
     "name": "stdout",
     "output_type": "stream",
     "text": [
      "ACC = 0.877, F1 = 0.8822966507177034, PPV = 0.9331983805668016, NPV = 0.8221343873517787, TPR = 0.8366606170598911, TNR = 0.9265033407572383, FPR = 0.07349665924276169, FNR = 0.16333938294010888\n",
      "\n",
      "TP = 461, FP = 33, TN = 416, FN = 90\n"
     ]
    }
   ],
   "source": [
    "metricsPSR = EvaluateModel(model, Xts, Yts, f\"SVM with {model.method} method\")"
   ]
  },
  {
   "cell_type": "code",
   "execution_count": 42,
   "id": "879ad375-3a43-43b0-8c27-c39285782dc6",
   "metadata": {},
   "outputs": [],
   "source": [
    "# save to file\n",
    "y_ps_tr = model.predict(Xtr).reshape((len(Xtr),1))\n",
    "y_ps_cal = model.predict(Xcal).reshape((len(Xcal),1))\n",
    "y_ps_ts = model.predict(Xts).reshape((len(Xts),1))\n",
    "\n",
    "train = pd.DataFrame(np.hstack((Xtr,Ytr,y_ps_tr)), columns = [\"SafetyMargin\",\"Eta\",\"Tau\",\"y_true\",\"y_conformal\"])\n",
    "calib = pd.DataFrame(np.hstack((Xcal,Ycal,y_ps_cal)), columns = [\"SafetyMargin\",\"Eta\",\"Tau\",\"y_true\",\"y_conformal\"])\n",
    "test = pd.DataFrame(np.hstack((Xts,Yts,y_ps_ts)), columns = [\"SafetyMargin\",\"Eta\",\"Tau\",\"y_true\",\"y_conformal\"])\n",
    "#train.to_csv(datapath+\"train_ps.csv\", index = False)\n",
    "#calib.to_csv(datapath+\"calib_ps.csv\", index = False)\n",
    "#test.to_csv(datapath+\"test_ps.csv\", index = False)"
   ]
  },
  {
   "cell_type": "code",
   "execution_count": 41,
   "id": "73696b9b-d26b-44b9-9b27-64fcc4462ce9",
   "metadata": {},
   "outputs": [
    {
     "data": {
      "text/plain": [
       "(4000, 1)"
      ]
     },
     "execution_count": 41,
     "metadata": {},
     "output_type": "execute_result"
    }
   ],
   "source": [
    "y_ps_tr.shape"
   ]
  },
  {
   "cell_type": "code",
   "execution_count": 46,
   "id": "4ba9dabd-9fb0-4b7d-9f49-74ac4a507b86",
   "metadata": {},
   "outputs": [
    {
     "data": {
      "text/plain": [
       "4000"
      ]
     },
     "execution_count": 46,
     "metadata": {},
     "output_type": "execute_result"
    }
   ],
   "source": [
    "len(model.alpha)"
   ]
  },
  {
   "cell_type": "code",
   "execution_count": 45,
   "id": "e64f67a3-53ba-4ca2-821e-4ba7aa187774",
   "metadata": {},
   "outputs": [],
   "source": [
    "from scipy.io import savemat\n",
    "# save alpha for matlab plots\n",
    "#savemat(datapath+\"psr_alpha.mat\", {\"alpha\": model.alpha})"
   ]
  },
  {
   "cell_type": "markdown",
   "id": "afaee004-d533-4fcd-bfaf-c4793abd8963",
   "metadata": {},
   "source": [
    "# 3) Conformal Safety Regions\n"
   ]
  },
  {
   "cell_type": "code",
   "execution_count": 18,
   "id": "90c98e62-12bf-4cc6-a06f-043a4d08d67d",
   "metadata": {},
   "outputs": [
    {
     "data": {
      "text/plain": [
       "0.14489055974142745"
      ]
     },
     "execution_count": 18,
     "metadata": {},
     "output_type": "execute_result"
    }
   ],
   "source": [
    "model = model.FPcontrol(Xcal, Ycal, 0.1,'cp')\n",
    "model.b_eps"
   ]
  },
  {
   "cell_type": "code",
   "execution_count": 19,
   "id": "81b80e26-65ce-4669-b560-b0a597f97d50",
   "metadata": {},
   "outputs": [
    {
     "data": {
      "image/png": "[encoded data removed]",
      "text/plain": [
       "<Figure size 640x480 with 2 Axes>"
      ]
     },
     "metadata": {},
     "output_type": "display_data"
    },
    {
     "name": "stdout",
     "output_type": "stream",
     "text": [
      "ACC = 0.866, F1 = 0.8752327746741154, PPV = 0.8986615678776291, NPV = 0.8301886792452831, TPR = 0.852994555353902, TNR = 0.8819599109131403, FPR = 0.11804008908685969, FNR = 0.147005444646098\n",
      "\n",
      "TP = 470, FP = 53, TN = 396, FN = 81\n"
     ]
    }
   ],
   "source": [
    "metricsCSR = EvaluateModel(model, Xts, Yts, f\"SVM with {model.method} method\")"
   ]
  },
  {
   "cell_type": "code",
   "execution_count": 20,
   "id": "57d805ea-257a-45b0-b925-bd60ec645907",
   "metadata": {},
   "outputs": [],
   "source": [
    "# save to file\n",
    "y_ps_tr = model.predict(Xtr).reshape((len(Xtr),1))\n",
    "y_ps_cal = model.predict(Xcal).reshape((len(Xcal),1))\n",
    "y_ps_ts = model.predict(Xts).reshape((len(Xts),1))\n",
    "\n",
    "train = pd.DataFrame(np.hstack((Xtr,Ytr,y_ps_tr)), columns = [\"SafetyMargin\",\"Eta\",\"Tau\",\"y_true\",\"y_conformal\"])\n",
    "calib = pd.DataFrame(np.hstack((Xcal,Ycal,y_ps_cal)), columns = [\"SafetyMargin\",\"Eta\",\"Tau\",\"y_true\",\"y_conformal\"])\n",
    "test = pd.DataFrame(np.hstack((Xts,Yts,y_ps_ts)), columns = [\"SafetyMargin\",\"Eta\",\"Tau\",\"y_true\",\"y_conformal\"])\n",
    "#train.to_csv(datapath+\"train_cp.csv\", index = False)\n",
    "#calib.to_csv(datapath+\"calib_cp.csv\", index = False)\n",
    "#test.to_csv(datapath+\"test_cp.csv\", index = False)"
   ]
  },
  {
   "cell_type": "code",
   "execution_count": 21,
   "id": "0f394e22-eead-4604-a055-ed76100798e9",
   "metadata": {},
   "outputs": [
    {
     "data": {
      "text/plain": [
       "['/Users/saranarteni/OneDrive - CNR/REXASI-PRO/T3.1/navground_code/simulation2/CP_SVM_safe.sav']"
      ]
     },
     "execution_count": 21,
     "metadata": {},
     "output_type": "execute_result"
    }
   ],
   "source": [
    "#joblib.dump(model,datapath+\"CP_SVM_safe.sav\")"
   ]
  },
  {
   "cell_type": "code",
   "execution_count": null,
   "id": "8054d02b-4261-4a93-b11e-d05da27d7557",
   "metadata": {},
   "outputs": [],
   "source": []
  }
 ],
 "metadata": {
  "kernelspec": {
   "display_name": "Python 3 (ipykernel)",
   "language": "python",
   "name": "python3"
  },
  "language_info": {
   "codemirror_mode": {
    "name": "ipython",
    "version": 3
   },
   "file_extension": ".py",
   "mimetype": "text/x-python",
   "name": "python",
   "nbconvert_exporter": "python",
   "pygments_lexer": "ipython3",
   "version": "3.11.4"
  },
  "varInspector": {
   "cols": {
    "lenName": 16,
    "lenType": 16,
    "lenVar": 40
   },
   "kernels_config": {
    "python": {
     "delete_cmd_postfix": "",
     "delete_cmd_prefix": "del ",
     "library": "var_list.py",
     "varRefreshCmd": "print(var_dic_list())"
    },
    "r": {
     "delete_cmd_postfix": ") ",
     "delete_cmd_prefix": "rm(",
     "library": "var_list.r",
     "varRefreshCmd": "cat(var_dic_list()) "
    }
   },
   "types_to_exclude": [
    "module",
    "function",
    "builtin_function_or_method",
    "instance",
    "_Feature"
   ],
   "window_display": false
  }
 },
 "nbformat": 4,
 "nbformat_minor": 5
}
